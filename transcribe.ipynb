{
  "nbformat": 4,
  "nbformat_minor": 0,
  "metadata": {
    "colab": {
      "provenance": [],
      "mount_file_id": "1mEj245xjpk9WSAWxDFDfGlVLflPJlgMD",
      "authorship_tag": "ABX9TyNfRUMOJFmrMIu9xZUoo8eL",
      "include_colab_link": true
    },
    "kernelspec": {
      "name": "python3",
      "display_name": "Python 3"
    },
    "language_info": {
      "name": "python"
    }
  },
  "cells": [
    {
      "cell_type": "markdown",
      "metadata": {
        "id": "view-in-github",
        "colab_type": "text"
      },
      "source": [
        "<a href=\"https://colab.research.google.com/github/okana2ki/transcribe/blob/main/transcribe.ipynb\" target=\"_parent\"><img src=\"https://colab.research.google.com/assets/colab-badge.svg\" alt=\"Open In Colab\"/></a>"
      ]
    },
    {
      "cell_type": "code",
      "source": [
        "!pip install python-docx"
      ],
      "metadata": {
        "colab": {
          "base_uri": "https://localhost:8080/"
        },
        "id": "XKtRIUUcaqxa",
        "outputId": "af1a85a8-f8ee-4f9d-e7e7-631c0a9cc38b"
      },
      "execution_count": null,
      "outputs": [
        {
          "output_type": "stream",
          "name": "stdout",
          "text": [
            "Requirement already satisfied: python-docx in /usr/local/lib/python3.10/dist-packages (1.1.2)\n",
            "Requirement already satisfied: lxml>=3.1.0 in /usr/local/lib/python3.10/dist-packages (from python-docx) (4.9.4)\n",
            "Requirement already satisfied: typing-extensions>=4.9.0 in /usr/local/lib/python3.10/dist-packages (from python-docx) (4.11.0)\n"
          ]
        }
      ]
    },
    {
      "cell_type": "code",
      "source": [
        "import os\n",
        "from docx import Document\n",
        "from openpyxl import load_workbook\n",
        "\n",
        "def extract_data(doc_path):\n",
        "    doc = Document(doc_path)\n",
        "    subject_name = format = goals = \"\"\n",
        "    lesson_plan = []\n",
        "\n",
        "    for table in doc.tables:\n",
        "        for i, row in enumerate(table.rows):\n",
        "            cells = row.cells\n",
        "            # 科目名\n",
        "            if i == 0 and len(cells) > 1:\n",
        "                subject_name = cells[1].text.strip()\n",
        "            # 授業形態\n",
        "            elif i == 2 and len(cells) > 6:\n",
        "                format = cells[6].text.strip()\n",
        "            # 授業の到達目標\n",
        "            elif i == 5 and len(cells) > 1:\n",
        "                goals = cells[1].text.replace('\\n', '').strip()\n",
        "            # 授業計画・内容\n",
        "            elif 6 <= i <= 20 and len(cells) > 2:  # 15回の内容が存在すると仮定\n",
        "                content = cells[2].text.strip().replace('\\n', '、')  # 番号の右のセルを抽出\n",
        "                if i == 20:  # 最後の要素\n",
        "                    lesson_plan.append(content.rstrip('、') + '。')\n",
        "                else:\n",
        "                    lesson_plan.append(content)\n",
        "\n",
        "    # すべての授業計画を1つの文字列に結合\n",
        "    plan = '、'.join(lesson_plan)\n",
        "    content = f\"本科目の授業形態は{format}である。授業の到達目標は次の通りである。{goals}\\n授業計画は次の内容を含む。{plan}\"\n",
        "\n",
        "    return subject_name, content\n",
        "\n",
        "def main():\n",
        "    folder_path = '/content/drive/MyDrive/transcribe/sp1'\n",
        "    excel_path = '/content/drive/MyDrive/transcribe/2_3-1sp1.xlsx'\n",
        "    start_row = 6  # Excelで書き込みを開始する行番号\n",
        "\n",
        "    wb = load_workbook(excel_path)\n",
        "    ws = wb.active\n",
        "\n",
        "    # for filename in os.listdir(folder_path):\n",
        "    for filename in sorted(os.listdir(folder_path)):  # filenameの昇順で取り出す\n",
        "        if filename.endswith('.docx'):\n",
        "            doc_path = os.path.join(folder_path, filename)\n",
        "            subject_name, content = extract_data(doc_path)\n",
        "            if subject_name and content:\n",
        "                ws.cell(row=start_row, column=3, value=subject_name)  # C列に科目名\n",
        "                ws.cell(row=start_row, column=5, value=content)  # E列に内容\n",
        "                start_row += 1  # 次の行に移動\n",
        "\n",
        "    wb.save(excel_path)\n",
        "\n",
        "if __name__ == \"__main__\":\n",
        "    main()\n"
      ],
      "metadata": {
        "id": "F9-2Qd_R_pqf"
      },
      "execution_count": null,
      "outputs": []
    },
    {
      "cell_type": "markdown",
      "source": [
        "以下は、作成途中のプログラム。念のために残しておく。"
      ],
      "metadata": {
        "id": "5oVgPcReDNRZ"
      }
    },
    {
      "cell_type": "code",
      "source": [
        "import os\n",
        "from docx import Document\n",
        "from openpyxl import load_workbook\n",
        "\n",
        "def extract_text_from_docx(doc_path):\n",
        "    doc = Document(doc_path)\n",
        "    subject_name = ''\n",
        "    class_format = ''\n",
        "    goals = ''\n",
        "    plan = []\n",
        "\n",
        "    for table in doc.tables:\n",
        "        for i, row in enumerate(table.rows):\n",
        "            cells = row.cells\n",
        "            if i == 0:\n",
        "                subject_name = cells[1].text.strip()  # 科目名\n",
        "            elif i == 2:\n",
        "                class_format = cells[1].text.strip()  # 授業形態\n",
        "            elif i == 5:\n",
        "                goals = cells[1].text.strip().replace('\\n', '')  # 授業の到達目標\n",
        "            elif i == 6:\n",
        "                # 授業計画・内容の抽出\n",
        "                for j in range(1, 16):  # 1から15回\n",
        "                    content_cell = cells[1 + j * 2]  # 毎回の内容が続く列\n",
        "                    content_text = content_cell.text.strip().replace('\\n', '、')\n",
        "                    if j == 15:\n",
        "                        content_text = content_text.rstrip('、') + '。'\n",
        "                    plan.append(content_text)\n",
        "\n",
        "    plan_text = ''.join(plan)\n",
        "    content = f\"本科目の授業形態は{class_format}である。授業の到達目標は次の通りである。{goals}\\n授業計画は次の内容を含む。{plan_text}\"\n",
        "    return subject_name, content\n",
        "\n",
        "def main():\n",
        "    folder_path = '/content/drive/MyDrive/transcribe'\n",
        "    excel_path = '/content/drive/MyDrive/transcribe/2_3-1auto.xlsx'\n",
        "    start_row = 6  # Excelで書き込みを開始する行番号\n",
        "\n",
        "    wb = load_workbook(excel_path)\n",
        "    ws = wb.active\n",
        "\n",
        "    for filename in os.listdir(folder_path):\n",
        "        if filename.endswith('.docx'):\n",
        "            doc_path = os.path.join(folder_path, filename)\n",
        "            subject_name, content = extract_text_from_docx(doc_path)\n",
        "            if subject_name and content:\n",
        "                ws.cell(row=start_row, column=3, value=subject_name)  # C列に科目名\n",
        "                ws.cell(row=start_row, column=5, value=content)  # E列に内容\n",
        "                start_row += 1  # 次の行に移動\n",
        "\n",
        "    wb.save(excel_path)\n",
        "\n",
        "if __name__ == \"__main__\":\n",
        "    main()"
      ],
      "metadata": {
        "id": "1hN-rDDQ9OHY"
      },
      "execution_count": null,
      "outputs": []
    },
    {
      "cell_type": "code",
      "execution_count": null,
      "metadata": {
        "id": "-Crwsw5UXKAF"
      },
      "outputs": [],
      "source": [
        "import os\n",
        "from docx import Document\n",
        "from openpyxl import load_workbook\n",
        "\n",
        "def extract_text_from_table(doc_path):\n",
        "    doc = Document(doc_path)\n",
        "    data = {}\n",
        "    for table in doc.tables:\n",
        "        for row in table.rows:\n",
        "            key = row.cells[0].text.strip()\n",
        "            value = row.cells[1].text.strip().replace('\\n', '')\n",
        "            data[key] = value\n",
        "    return data\n",
        "\n",
        "def format_content(format, goals, plan):\n",
        "    # 教科目計画の内容の各行から番号を取り除き、必要に応じて句読点を挿入\n",
        "    plan = plan.replace('\\n', '、')\n",
        "    plan = plan[:-1] + '。'  # 最後の改行を句点に変更\n",
        "    content = f\"本科目の授業形態は{format}である。授業の到達目標は次の通りである。{goals}。\\n授業計画は次の内容を含む。{plan}\"\n",
        "    return content\n",
        "\n",
        "def main():\n",
        "    folder_path = '/content/drive/MyDrive/transcribe'\n",
        "    excel_path = '/content/drive/MyDrive/transcribe/2_3-1auto.xlsx'\n",
        "    start_row = 6  # 開始行番号\n",
        "\n",
        "    # Excel ファイルを読み込む\n",
        "    wb = load_workbook(excel_path)\n",
        "    ws = wb.active\n",
        "\n",
        "    # フォルダ内の全ての Word ファイルを処理\n",
        "    for filename in os.listdir(folder_path):\n",
        "        if filename.endswith('.docx'):\n",
        "            doc_path = os.path.join(folder_path, filename)\n",
        "            data = extract_text_from_table(doc_path)\n",
        "            # フォーマットされた内容を生成\n",
        "            content = format_content(data['授業形態'], data['授業の到達目標'], data['授業計画・内容'])\n",
        "            # Excel に書き込み\n",
        "            ws.cell(row=start_row, column=3).value = data['科目名']\n",
        "            ws.cell(row=start_row, column=5).value = content\n",
        "            start_row += 1  # 次の行へ\n",
        "\n",
        "    # 変更を保存\n",
        "    wb.save(excel_path)\n",
        "\n",
        "if __name__ == \"__main__\":\n",
        "    main()"
      ]
    },
    {
      "cell_type": "code",
      "source": [
        "import os\n",
        "from docx import Document\n",
        "from openpyxl import load_workbook\n",
        "\n",
        "def extract_text_from_table(doc_path):\n",
        "    doc = Document(doc_path)\n",
        "    data = {}\n",
        "    for table in doc.tables:\n",
        "        for row in table.rows:\n",
        "            cells = row.cells\n",
        "            for i, cell in enumerate(cells):\n",
        "                text = cell.text.strip()\n",
        "                if '科目名' in text and i+1 < len(cells):\n",
        "                    data['科目名'] = cells[i+1].text.strip()\n",
        "                elif '授業形態' in text and i+1 < len(cells):\n",
        "                    data['授業形態'] = cells[i+1].text.strip()\n",
        "                elif '授業の到達目標' in text and i+1 < len(cells):\n",
        "                    data['授業の到達目標'] = cells[i+1].text.strip().replace('\\n', '')\n",
        "                elif '授業計画・内容' in text and i+1 < len(cells):\n",
        "                    plan_content = []\n",
        "                    for j in range(1, 16):  # 1から15回の内容を集約\n",
        "                        if i+j < len(cells):\n",
        "                            plan_content.append(cells[i+j].text.strip().replace('\\n', '、'))\n",
        "                    data['授業計画・内容'] = ''.join(plan_content[:-1]) + plan_content[-1].rstrip('、') + '。'\n",
        "    return data\n",
        "\n",
        "def format_content(format, goals, plan):\n",
        "    content = f\"本科目の授業形態は{format}である。授業の到達目標は次の通りである。{goals}。\\n授業計画は次の内容を含む。{plan}\"\n",
        "    return content\n",
        "\n",
        "def main():\n",
        "    folder_path = '/content/drive/MyDrive/transcribe'\n",
        "    excel_path = '/content/drive/MyDrive/transcribe/2_3-1auto.xlsx'\n",
        "    start_row = 6  # Excelで書き込みを開始する行番号\n",
        "\n",
        "    wb = load_workbook(excel_path)\n",
        "    ws = wb.active\n",
        "\n",
        "    for filename in os.listdir(folder_path):\n",
        "        if filename.endswith('.docx'):\n",
        "            doc_path = os.path.join(folder_path, filename)\n",
        "            data = extract_text_from_table(doc_path)\n",
        "            if '科目名' in data and '授業形態' in data and '授業の到達目標' in data and '授業計画・内容' in data:\n",
        "                content = format_content(data['授業形態'], data['授業の到達目標'], data['授業計画・内容'])\n",
        "                ws.cell(row=start_row, column=3, value=data['科目名'])\n",
        "                ws.cell(row=start_row, column=5, value=content)\n",
        "                start_row += 1\n",
        "\n",
        "    wb.save(excel_path)\n",
        "\n",
        "if __name__ == \"__main__\":\n",
        "    main()"
      ],
      "metadata": {
        "id": "h4WVV5DGcyJR"
      },
      "execution_count": null,
      "outputs": []
    }
  ]
}