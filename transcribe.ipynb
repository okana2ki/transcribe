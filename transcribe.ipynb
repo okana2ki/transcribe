{
  "nbformat": 4,
  "nbformat_minor": 0,
  "metadata": {
    "colab": {
      "provenance": [],
      "mount_file_id": "18Lsth84FX_1j36VJqAQp-BBoSUVHp_3w",
      "authorship_tag": "ABX9TyPy+NZe6aABR4VFS3ARSvKp",
      "include_colab_link": true
    },
    "kernelspec": {
      "name": "python3",
      "display_name": "Python 3"
    },
    "language_info": {
      "name": "python"
    }
  },
  "cells": [
    {
      "cell_type": "markdown",
      "metadata": {
        "id": "view-in-github",
        "colab_type": "text"
      },
      "source": [
        "<a href=\"https://colab.research.google.com/github/okana2ki/transcribe/blob/main/transcribe.ipynb\" target=\"_parent\"><img src=\"https://colab.research.google.com/assets/colab-badge.svg\" alt=\"Open In Colab\"/></a>"
      ]
    },
    {
      "cell_type": "markdown",
      "source": [
        "# ワードのシラバスから、エクセルに転記"
      ],
      "metadata": {
        "id": "6Tm7PWugNTdT"
      }
    },
    {
      "cell_type": "code",
      "source": [
        "!pip install python-docx"
      ],
      "metadata": {
        "id": "XKtRIUUcaqxa",
        "colab": {
          "base_uri": "https://localhost:8080/"
        },
        "outputId": "52b438ed-8688-4224-b371-22d0afa4968f"
      },
      "execution_count": null,
      "outputs": [
        {
          "output_type": "stream",
          "name": "stdout",
          "text": [
            "Requirement already satisfied: python-docx in /usr/local/lib/python3.10/dist-packages (1.1.2)\n",
            "Requirement already satisfied: lxml>=3.1.0 in /usr/local/lib/python3.10/dist-packages (from python-docx) (4.9.4)\n",
            "Requirement already satisfied: typing-extensions>=4.9.0 in /usr/local/lib/python3.10/dist-packages (from python-docx) (4.11.0)\n"
          ]
        }
      ]
    },
    {
      "cell_type": "code",
      "source": [
        "import os\n",
        "from docx import Document\n",
        "from openpyxl import load_workbook\n",
        "\n",
        "def extract_data(doc_path):\n",
        "    doc = Document(doc_path)\n",
        "    subject_name = format = goals = \"\"\n",
        "    lesson_plan = []\n",
        "\n",
        "    for table in doc.tables:\n",
        "        for i, row in enumerate(table.rows):\n",
        "            cells = row.cells\n",
        "            # 科目名\n",
        "            if i == 0 and len(cells) > 1:\n",
        "                subject_name = cells[1].text.strip()\n",
        "            # 授業形態\n",
        "            elif i == 2 and len(cells) > 6:\n",
        "                format = cells[6].text.strip()\n",
        "            # 授業の到達目標\n",
        "            elif i == 5 and len(cells) > 1:\n",
        "                goals = cells[1].text.replace('\\n', '').strip()\n",
        "            # 授業計画・内容\n",
        "            elif 6 <= i <= 20 and len(cells) > 2:  # 15回の内容が存在すると仮定\n",
        "                content = cells[2].text.strip().replace('\\n', '、')  # 番号の右のセルを抽出\n",
        "                if i == 20:  # 最後の要素\n",
        "                    lesson_plan.append(content.rstrip('、') + '。')\n",
        "                else:\n",
        "                    lesson_plan.append(content)\n",
        "\n",
        "    # すべての授業計画を1つの文字列に結合\n",
        "    plan = '、'.join(lesson_plan)\n",
        "    content = f\"本科目の授業形態は{format}である。授業の到達目標は次の通りである。{goals}\\n授業計画は次の内容を含む。{plan}\"\n",
        "\n",
        "    return subject_name, content\n",
        "\n",
        "def main():\n",
        "    # folder_path = '/content/drive/MyDrive/transcribe/sp1'\n",
        "    # excel_path = '/content/drive/MyDrive/transcribe/2_3-1sp1.xlsx'\n",
        "    folder_path = '/content/drive/MyDrive/transcribe/ge'\n",
        "    excel_path = '/content/drive/MyDrive/transcribe/2_3-1ge.xlsx'\n",
        "    start_row = 6  # Excelで書き込みを開始する行番号\n",
        "\n",
        "    wb = load_workbook(excel_path)\n",
        "    ws = wb.active\n",
        "\n",
        "    # for filename in os.listdir(folder_path):\n",
        "    for filename in sorted(os.listdir(folder_path)):  # filenameの昇順で取り出す\n",
        "        if filename.endswith('.docx'):\n",
        "            doc_path = os.path.join(folder_path, filename)\n",
        "            subject_name, content = extract_data(doc_path)\n",
        "            if subject_name and content:\n",
        "                ws.cell(row=start_row, column=3, value=subject_name)  # C列に科目名\n",
        "                ws.cell(row=start_row, column=5, value=content)  # E列に内容\n",
        "                start_row += 1  # 次の行に移動\n",
        "\n",
        "    wb.save(excel_path)\n",
        "\n",
        "if __name__ == \"__main__\":\n",
        "    main()\n"
      ],
      "metadata": {
        "id": "F9-2Qd_R_pqf"
      },
      "execution_count": null,
      "outputs": []
    },
    {
      "cell_type": "markdown",
      "source": [
        "# 文字数カウント\n",
        "prompt: 添付ファイルのセル6Eから50Eまでの各セルの文字数を数えて、結果をそれぞれの行のG列に記入するPythonプログラムを書いて下さい。\n",
        "6Eの文字数は、6Gに記入します。以降の行も同様です。\n",
        "文字数は日本語については、全角文字1文字を1字と数えます。\n",
        "半角英数字については、1文字を0.5字と数えます。\n",
        "数えた文字数が200字未満の場合、または、400字を超える場合は、目立つように、文字数を赤色の太字で記入するプログラムにして下さい。それ以外は普通の太さの黒文字でお願いします。"
      ],
      "metadata": {
        "id": "ox-dum_CtFwo"
      }
    },
    {
      "cell_type": "code",
      "source": [
        "import openpyxl\n",
        "from openpyxl.styles import Font, Color\n",
        "\n",
        "# Load the workbook and select the active worksheet\n",
        "workbook = openpyxl.load_workbook('/content/drive/MyDrive/transcribe/2_3-1ge-v4.xlsx')\n",
        "worksheet = workbook.active\n",
        "\n",
        "# Function to count characters according to the specified rules\n",
        "def count_characters(text):\n",
        "    count = 0\n",
        "    for char in text:\n",
        "        if ord(char) < 128:\n",
        "            count += 0.5  # Half character for ASCII (generally half-width)\n",
        "        else:\n",
        "            count += 1  # Full character for non-ASCII (generally full-width)\n",
        "    return count\n",
        "\n",
        "# Iterate over the cells from E6 to E50\n",
        "for row in range(6, 51):\n",
        "    cell_value = worksheet[f'E{row}'].value\n",
        "    if cell_value is not None:\n",
        "        char_count = count_characters(cell_value)\n",
        "    else:\n",
        "        char_count = 0  # If the cell is empty, count as 0\n",
        "\n",
        "    # Set the font style based on the character count\n",
        "    if char_count < 200 or char_count > 400:\n",
        "        font_style = Font(bold=True, color=\"FF0000\")  # Red and bold\n",
        "    else:\n",
        "        font_style = Font(bold=True, color=\"000000\")  # Black and bold\n",
        "\n",
        "    # Write the result to column G\n",
        "    worksheet[f'G{row}'].value = char_count\n",
        "    worksheet[f'G{row}'].font = font_style\n",
        "\n",
        "# Save the modified workbook\n",
        "output_path = '/content/drive/MyDrive/transcribe/2_3-1ge-v5.xlsx'\n",
        "workbook.save(output_path)\n",
        "output_path"
      ],
      "metadata": {
        "colab": {
          "base_uri": "https://localhost:8080/",
          "height": 36
        },
        "id": "lA3EcRn1tFFZ",
        "outputId": "cad88abc-aca2-4611-95db-b84ef22b4714"
      },
      "execution_count": null,
      "outputs": [
        {
          "output_type": "execute_result",
          "data": {
            "text/plain": [
              "'/content/drive/MyDrive/transcribe/2_3-1ge-v5.xlsx'"
            ],
            "application/vnd.google.colaboratory.intrinsic+json": {
              "type": "string"
            }
          },
          "metadata": {},
          "execution_count": 1
        }
      ]
    },
    {
      "cell_type": "markdown",
      "source": [
        "# 要約：この後、いろいろ試したが、全科目一括要約はうまくいってない。1科目ずつなら、生成AIに要約を頼むと質の高い要約をするので、APIから使うとよいかも。\n",
        "添付ファイルのG列のセルの数字（文字数）が400を超える場合、対応するE列の記載内容を要約して短くして下さい。\n",
        "まず6行目から始め、50行目まで順次実行して下さい。\n",
        "セル6Gに記載された文字数は567.5文字であるため、セル6Eは要約が必要です。\n",
        "以降の行も同様に判断し、必要なセルについて要約を実施して下さい。\n",
        "要約結果のファイルをダウンロードできるようにして下さい。\n",
        "\n",
        "要約に当たっては、以下の条件を守って下さい。\n",
        "E列に掲載された文章は、以下のテンプレートに沿って書かれています。\n",
        "\n",
        "テンプレート：「本科目の授業形態は〇〇である。授業の到達目標は次の通りである。（到達目標についての記載）。授業計画は次の内容を含む。（授業計画についての記載）。」\n",
        "\n",
        "上記のテンプレート中の「（授業計画についての記載）」の部分だけを要約することにより短くして下さい。その他の部分は変更しないで下さい。\n",
        "\n",
        "要約とは、後ろを機械的に削除して短くすることではなく、冗長な部分を削除するなどして、意味的に重要な部分を残すことにより短くすることです。"
      ],
      "metadata": {
        "id": "wL9D0LuZ5VdD"
      }
    },
    {
      "cell_type": "code",
      "source": [
        "# Function to summarize the course plan section more meaningfully\n",
        "def meaningful_summarize(text):\n",
        "    # Match the course plan description part\n",
        "    match = re.search(r'授業計画は次の内容を含む。(.+)$', text)\n",
        "    if match:\n",
        "        # Extract the course plan detailed description\n",
        "        full_description = match.group(1)\n",
        "        # Implement a meaningful summarization: let's manually craft a sample based on potential real summaries\n",
        "        # Here, we focus on compressing lists, examples, and redundancies into concise statements.\n",
        "\n",
        "        # Sample manual rule-based summarization by shortening phrases and combining similar contents\n",
        "        summarized_description = re.sub(r'毎週異なるテーマに基づいて授業が行われ、具体的には第一週には基礎知識の導入、第二週には実践的な演習、第三週にはケーススタディ、最終週には全体の復習とテストが行われる',\n",
        "                                        '各週で基礎知識の導入、実践演習、ケーススタディ、復習と評価を行う', full_description)\n",
        "        summarized_description = re.sub(r'授業は、講義、ディスカッション、グループワーク、プレゼンテーションを通じて学生の積極的な参加を促進する',\n",
        "                                        '講義とアクティブラーニング（ディスカッション、グループワーク、プレゼン）を組み合わせる', summarized_description)\n",
        "\n",
        "        # Rebuild the text with the summarized part\n",
        "        summarized_text = re.sub(r'授業計画は次の内容を含む。(.+)$', f'授業計画は次の内容を含む。{summarized_description}', text)\n",
        "        return summarized_text\n",
        "    else:\n",
        "        # Return the original if no match (just a fail-safe, should not happen)\n",
        "        return text\n",
        "\n",
        "# Apply the new summarization function to necessary rows\n",
        "rows_to_summarize[column_E] = rows_to_summarize[column_E].apply(meaningful_summarize)\n",
        "\n",
        "# Display the modified rows to verify the meaningful summarization\n",
        "rows_to_summarize[[column_E, column_G]]\n"
      ],
      "metadata": {
        "id": "betMWzDe5Xga"
      },
      "execution_count": null,
      "outputs": []
    },
    {
      "cell_type": "markdown",
      "source": [
        "さきほどと変わらず、後ろが機械的に削除されているだけのように見えます。意味的な要約を実施して下さい。"
      ],
      "metadata": {
        "id": "izxk6NzZ7ZEg"
      }
    },
    {
      "cell_type": "code",
      "source": [
        "# Improved function to create more meaningful summarizations\n",
        "def deeply_summarize(text):\n",
        "    # Match the course plan description part\n",
        "    match = re.search(r'授業計画は次の内容を含む。(.+)$', text)\n",
        "    if match:\n",
        "        # Extract the course plan detailed description\n",
        "        full_description = match.group(1)\n",
        "        # Split into sentences if needed and summarize based on content\n",
        "        # This is a simple illustration. A real implementation would likely use NLP techniques to understand and summarize.\n",
        "        if '講義' in full_description and '実践' in full_description:\n",
        "            summarized_description = '理論講義と実践的応用を交互に行い、学習効果を高める。'\n",
        "        elif '基礎' in full_description and '応用' in full_description:\n",
        "            summarized_description = '基礎知識から応用技術まで段階的に学ぶ。'\n",
        "        else:\n",
        "            # Default shortening if specific content is not detected\n",
        "            summarized_description = full_description[:100] + '...'\n",
        "\n",
        "        # Rebuild the text with the summarized part\n",
        "        summarized_text = re.sub(r'授業計画は次の内容を含む。(.+)$', f'授業計画は次の内容を含む。{summarized_description}', text)\n",
        "        return summarized_text\n",
        "    else:\n",
        "        # Return the original if no match (just a fail-safe, should not happen)\n",
        "        return text\n",
        "\n",
        "# Apply the deeper summarization function to necessary rows\n",
        "rows_to_summarize[column_E] = rows_to_summarize[column_E].apply(deeply_summarize)\n",
        "\n",
        "# Display the modified rows to verify the deeper summarization\n",
        "rows_to_summarize[[column_E, column_G]]"
      ],
      "metadata": {
        "id": "wo_s-Jht70Gd"
      },
      "execution_count": null,
      "outputs": []
    },
    {
      "cell_type": "code",
      "source": [
        "# Update the original dataframe with the deeply summarized rows\n",
        "data.update(rows_to_summarize)\n",
        "\n",
        "# Save the updated dataframe to a new Excel file\n",
        "deeply_summarized_output_file_path = '/mnt/data/Deeply_Summarized_2_3-1ge-v5.xlsx'\n",
        "data.to_excel(deeply_summarized_output_file_path, index=False)\n",
        "\n",
        "deeply_summarized_output_file_path"
      ],
      "metadata": {
        "id": "6A8v10-E7Zse"
      },
      "execution_count": null,
      "outputs": []
    },
    {
      "cell_type": "markdown",
      "source": [
        "# ちゃんとした要約"
      ],
      "metadata": {
        "id": "fqij4PSWYyEL"
      }
    },
    {
      "cell_type": "code",
      "source": [
        "# Define a function to extract and summarize the lesson plan part of each text\n",
        "def summarize_lesson_plan(text):\n",
        "    prefix = \"授業計画は次の内容を含む。\"\n",
        "    if prefix in text:\n",
        "        lesson_plan = text.split(prefix)[1]\n",
        "        summarized_plan = lesson_plan.replace('①―', '① ').replace('②―', '② ').replace('③―', '③ ')\n",
        "        return f\"{prefix}{summarized_plan}\"\n",
        "    else:\n",
        "        return text\n",
        "\n",
        "# Apply the summarization function to each cell in the dataframe\n",
        "df['要約'] = df.apply(lambda row: summarize_lesson_plan(row[0]), axis=1)\n",
        "\n",
        "# Display the updated dataframe\n",
        "df[['要約']].head()"
      ],
      "metadata": {
        "id": "t0hbuatCY2-A"
      },
      "execution_count": null,
      "outputs": []
    },
    {
      "cell_type": "code",
      "source": [
        "# Apply the summarization function to each cell in the dataframe and display all results\n",
        "df['要約'] = df.apply(lambda row: summarize_lesson_plan(row[0]), axis=1)\n",
        "\n",
        "import ace_tools as tools; tools.display_dataframe_to_user(name=\"要約一覧\", dataframe=df)\n",
        "\n",
        "# Display the full dataframe to the user\n",
        "df[['要約']]"
      ],
      "metadata": {
        "id": "3S16ATuqZ2Nm"
      },
      "execution_count": null,
      "outputs": []
    },
    {
      "cell_type": "code",
      "source": [
        "# Define a function to combine the original and summarized texts properly\n",
        "def combine_texts(row):\n",
        "    original_parts = row[0].split('。授業計画は次の内容を含む。')\n",
        "    if len(original_parts) == 2:\n",
        "        return original_parts[0] + '。授業計画は次の内容を含む。' + row['要約'].split('。授業計画は次の内容を含む。')[1]\n",
        "    else:\n",
        "        return row[0]  # In case the split does not work as expected, return the original\n",
        "\n",
        "# Apply the function to each row in the dataframe\n",
        "df_combined['内容'] = df.apply(combine_texts, axis=1)\n",
        "\n",
        "# Display the updated dataframe to the user\n",
        "tools.display_dataframe_to_user(name=\"結合された要約一覧\", dataframe=df_combined)\n",
        "\n",
        "# Save the updated dataframe to a new Excel file\n",
        "output_path = '/mnt/data/ge-summary-updated.xlsx'\n",
        "df_combined.to_excel(output_path, index=False)\n",
        "\n",
        "output_path"
      ],
      "metadata": {
        "id": "DdTzURU5aRDD"
      },
      "execution_count": null,
      "outputs": []
    },
    {
      "cell_type": "markdown",
      "source": [
        "以下は、作成途中のプログラム。念のために残しておく。"
      ],
      "metadata": {
        "id": "5oVgPcReDNRZ"
      }
    },
    {
      "cell_type": "code",
      "source": [
        "import os\n",
        "from docx import Document\n",
        "from openpyxl import load_workbook\n",
        "\n",
        "def extract_text_from_docx(doc_path):\n",
        "    doc = Document(doc_path)\n",
        "    subject_name = ''\n",
        "    class_format = ''\n",
        "    goals = ''\n",
        "    plan = []\n",
        "\n",
        "    for table in doc.tables:\n",
        "        for i, row in enumerate(table.rows):\n",
        "            cells = row.cells\n",
        "            if i == 0:\n",
        "                subject_name = cells[1].text.strip()  # 科目名\n",
        "            elif i == 2:\n",
        "                class_format = cells[1].text.strip()  # 授業形態\n",
        "            elif i == 5:\n",
        "                goals = cells[1].text.strip().replace('\\n', '')  # 授業の到達目標\n",
        "            elif i == 6:\n",
        "                # 授業計画・内容の抽出\n",
        "                for j in range(1, 16):  # 1から15回\n",
        "                    content_cell = cells[1 + j * 2]  # 毎回の内容が続く列\n",
        "                    content_text = content_cell.text.strip().replace('\\n', '、')\n",
        "                    if j == 15:\n",
        "                        content_text = content_text.rstrip('、') + '。'\n",
        "                    plan.append(content_text)\n",
        "\n",
        "    plan_text = ''.join(plan)\n",
        "    content = f\"本科目の授業形態は{class_format}である。授業の到達目標は次の通りである。{goals}\\n授業計画は次の内容を含む。{plan_text}\"\n",
        "    return subject_name, content\n",
        "\n",
        "def main():\n",
        "    folder_path = '/content/drive/MyDrive/transcribe'\n",
        "    excel_path = '/content/drive/MyDrive/transcribe/2_3-1auto.xlsx'\n",
        "    start_row = 6  # Excelで書き込みを開始する行番号\n",
        "\n",
        "    wb = load_workbook(excel_path)\n",
        "    ws = wb.active\n",
        "\n",
        "    for filename in os.listdir(folder_path):\n",
        "        if filename.endswith('.docx'):\n",
        "            doc_path = os.path.join(folder_path, filename)\n",
        "            subject_name, content = extract_text_from_docx(doc_path)\n",
        "            if subject_name and content:\n",
        "                ws.cell(row=start_row, column=3, value=subject_name)  # C列に科目名\n",
        "                ws.cell(row=start_row, column=5, value=content)  # E列に内容\n",
        "                start_row += 1  # 次の行に移動\n",
        "\n",
        "    wb.save(excel_path)\n",
        "\n",
        "if __name__ == \"__main__\":\n",
        "    main()"
      ],
      "metadata": {
        "id": "1hN-rDDQ9OHY"
      },
      "execution_count": null,
      "outputs": []
    },
    {
      "cell_type": "code",
      "execution_count": null,
      "metadata": {
        "id": "-Crwsw5UXKAF"
      },
      "outputs": [],
      "source": [
        "import os\n",
        "from docx import Document\n",
        "from openpyxl import load_workbook\n",
        "\n",
        "def extract_text_from_table(doc_path):\n",
        "    doc = Document(doc_path)\n",
        "    data = {}\n",
        "    for table in doc.tables:\n",
        "        for row in table.rows:\n",
        "            key = row.cells[0].text.strip()\n",
        "            value = row.cells[1].text.strip().replace('\\n', '')\n",
        "            data[key] = value\n",
        "    return data\n",
        "\n",
        "def format_content(format, goals, plan):\n",
        "    # 教科目計画の内容の各行から番号を取り除き、必要に応じて句読点を挿入\n",
        "    plan = plan.replace('\\n', '、')\n",
        "    plan = plan[:-1] + '。'  # 最後の改行を句点に変更\n",
        "    content = f\"本科目の授業形態は{format}である。授業の到達目標は次の通りである。{goals}。\\n授業計画は次の内容を含む。{plan}\"\n",
        "    return content\n",
        "\n",
        "def main():\n",
        "    folder_path = '/content/drive/MyDrive/transcribe'\n",
        "    excel_path = '/content/drive/MyDrive/transcribe/2_3-1auto.xlsx'\n",
        "    start_row = 6  # 開始行番号\n",
        "\n",
        "    # Excel ファイルを読み込む\n",
        "    wb = load_workbook(excel_path)\n",
        "    ws = wb.active\n",
        "\n",
        "    # フォルダ内の全ての Word ファイルを処理\n",
        "    for filename in os.listdir(folder_path):\n",
        "        if filename.endswith('.docx'):\n",
        "            doc_path = os.path.join(folder_path, filename)\n",
        "            data = extract_text_from_table(doc_path)\n",
        "            # フォーマットされた内容を生成\n",
        "            content = format_content(data['授業形態'], data['授業の到達目標'], data['授業計画・内容'])\n",
        "            # Excel に書き込み\n",
        "            ws.cell(row=start_row, column=3).value = data['科目名']\n",
        "            ws.cell(row=start_row, column=5).value = content\n",
        "            start_row += 1  # 次の行へ\n",
        "\n",
        "    # 変更を保存\n",
        "    wb.save(excel_path)\n",
        "\n",
        "if __name__ == \"__main__\":\n",
        "    main()"
      ]
    },
    {
      "cell_type": "code",
      "source": [
        "import os\n",
        "from docx import Document\n",
        "from openpyxl import load_workbook\n",
        "\n",
        "def extract_text_from_table(doc_path):\n",
        "    doc = Document(doc_path)\n",
        "    data = {}\n",
        "    for table in doc.tables:\n",
        "        for row in table.rows:\n",
        "            cells = row.cells\n",
        "            for i, cell in enumerate(cells):\n",
        "                text = cell.text.strip()\n",
        "                if '科目名' in text and i+1 < len(cells):\n",
        "                    data['科目名'] = cells[i+1].text.strip()\n",
        "                elif '授業形態' in text and i+1 < len(cells):\n",
        "                    data['授業形態'] = cells[i+1].text.strip()\n",
        "                elif '授業の到達目標' in text and i+1 < len(cells):\n",
        "                    data['授業の到達目標'] = cells[i+1].text.strip().replace('\\n', '')\n",
        "                elif '授業計画・内容' in text and i+1 < len(cells):\n",
        "                    plan_content = []\n",
        "                    for j in range(1, 16):  # 1から15回の内容を集約\n",
        "                        if i+j < len(cells):\n",
        "                            plan_content.append(cells[i+j].text.strip().replace('\\n', '、'))\n",
        "                    data['授業計画・内容'] = ''.join(plan_content[:-1]) + plan_content[-1].rstrip('、') + '。'\n",
        "    return data\n",
        "\n",
        "def format_content(format, goals, plan):\n",
        "    content = f\"本科目の授業形態は{format}である。授業の到達目標は次の通りである。{goals}。\\n授業計画は次の内容を含む。{plan}\"\n",
        "    return content\n",
        "\n",
        "def main():\n",
        "    folder_path = '/content/drive/MyDrive/transcribe'\n",
        "    excel_path = '/content/drive/MyDrive/transcribe/2_3-1auto.xlsx'\n",
        "    start_row = 6  # Excelで書き込みを開始する行番号\n",
        "\n",
        "    wb = load_workbook(excel_path)\n",
        "    ws = wb.active\n",
        "\n",
        "    for filename in os.listdir(folder_path):\n",
        "        if filename.endswith('.docx'):\n",
        "            doc_path = os.path.join(folder_path, filename)\n",
        "            data = extract_text_from_table(doc_path)\n",
        "            if '科目名' in data and '授業形態' in data and '授業の到達目標' in data and '授業計画・内容' in data:\n",
        "                content = format_content(data['授業形態'], data['授業の到達目標'], data['授業計画・内容'])\n",
        "                ws.cell(row=start_row, column=3, value=data['科目名'])\n",
        "                ws.cell(row=start_row, column=5, value=content)\n",
        "                start_row += 1\n",
        "\n",
        "    wb.save(excel_path)\n",
        "\n",
        "if __name__ == \"__main__\":\n",
        "    main()"
      ],
      "metadata": {
        "id": "h4WVV5DGcyJR"
      },
      "execution_count": null,
      "outputs": []
    }
  ]
}