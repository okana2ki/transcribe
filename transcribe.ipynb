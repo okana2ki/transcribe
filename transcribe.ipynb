{
  "nbformat": 4,
  "nbformat_minor": 0,
  "metadata": {
    "colab": {
      "provenance": [],
      "mount_file_id": "1ja2Tp98q0gp1cNxLfsdiqQY6m2MGZmdO",
      "authorship_tag": "ABX9TyNHzP6QHpgBWMGEqy1+169F",
      "include_colab_link": true
    },
    "kernelspec": {
      "name": "python3",
      "display_name": "Python 3"
    },
    "language_info": {
      "name": "python"
    }
  },
  "cells": [
    {
      "cell_type": "markdown",
      "metadata": {
        "id": "view-in-github",
        "colab_type": "text"
      },
      "source": [
        "<a href=\"https://colab.research.google.com/github/okana2ki/transcribe/blob/main/transcribe.ipynb\" target=\"_parent\"><img src=\"https://colab.research.google.com/assets/colab-badge.svg\" alt=\"Open In Colab\"/></a>"
      ]
    },
    {
      "cell_type": "code",
      "source": [
        "!pip install python-docx"
      ],
      "metadata": {
        "colab": {
          "base_uri": "https://localhost:8080/"
        },
        "id": "XKtRIUUcaqxa",
        "outputId": "295c26b6-415b-409a-d154-fb7a1943dd2f"
      },
      "execution_count": 2,
      "outputs": [
        {
          "output_type": "stream",
          "name": "stdout",
          "text": [
            "Collecting python-docx\n",
            "  Downloading python_docx-1.1.2-py3-none-any.whl (244 kB)\n",
            "\u001b[?25l     \u001b[90m━━━━━━━━━━━━━━━━━━━━━━━━━━━━━━━━━━━━━━━━\u001b[0m \u001b[32m0.0/244.3 kB\u001b[0m \u001b[31m?\u001b[0m eta \u001b[36m-:--:--\u001b[0m\r\u001b[2K     \u001b[91m━━━━━━━━━━━━━━━━━━━━━━━━━━━━━━━━━━━━━━\u001b[0m\u001b[91m╸\u001b[0m\u001b[90m━\u001b[0m \u001b[32m235.5/244.3 kB\u001b[0m \u001b[31m7.1 MB/s\u001b[0m eta \u001b[36m0:00:01\u001b[0m\r\u001b[2K     \u001b[90m━━━━━━━━━━━━━━━━━━━━━━━━━━━━━━━━━━━━━━━━\u001b[0m \u001b[32m244.3/244.3 kB\u001b[0m \u001b[31m5.7 MB/s\u001b[0m eta \u001b[36m0:00:00\u001b[0m\n",
            "\u001b[?25hRequirement already satisfied: lxml>=3.1.0 in /usr/local/lib/python3.10/dist-packages (from python-docx) (4.9.4)\n",
            "Requirement already satisfied: typing-extensions>=4.9.0 in /usr/local/lib/python3.10/dist-packages (from python-docx) (4.11.0)\n",
            "Installing collected packages: python-docx\n",
            "Successfully installed python-docx-1.1.2\n"
          ]
        }
      ]
    },
    {
      "cell_type": "code",
      "execution_count": 3,
      "metadata": {
        "colab": {
          "base_uri": "https://localhost:8080/",
          "height": 309
        },
        "id": "-Crwsw5UXKAF",
        "outputId": "d5887f89-59a6-42b6-b63a-1d849578e003"
      },
      "outputs": [
        {
          "output_type": "error",
          "ename": "KeyError",
          "evalue": "'授業形態'",
          "traceback": [
            "\u001b[0;31m---------------------------------------------------------------------------\u001b[0m",
            "\u001b[0;31mKeyError\u001b[0m                                  Traceback (most recent call last)",
            "\u001b[0;32m<ipython-input-3-03257ccad4ed>\u001b[0m in \u001b[0;36m<cell line: 46>\u001b[0;34m()\u001b[0m\n\u001b[1;32m     45\u001b[0m \u001b[0;34m\u001b[0m\u001b[0m\n\u001b[1;32m     46\u001b[0m \u001b[0;32mif\u001b[0m \u001b[0m__name__\u001b[0m \u001b[0;34m==\u001b[0m \u001b[0;34m\"__main__\"\u001b[0m\u001b[0;34m:\u001b[0m\u001b[0;34m\u001b[0m\u001b[0;34m\u001b[0m\u001b[0m\n\u001b[0;32m---> 47\u001b[0;31m     \u001b[0mmain\u001b[0m\u001b[0;34m(\u001b[0m\u001b[0;34m)\u001b[0m\u001b[0;34m\u001b[0m\u001b[0;34m\u001b[0m\u001b[0m\n\u001b[0m",
            "\u001b[0;32m<ipython-input-3-03257ccad4ed>\u001b[0m in \u001b[0;36mmain\u001b[0;34m()\u001b[0m\n\u001b[1;32m     35\u001b[0m             \u001b[0mdata\u001b[0m \u001b[0;34m=\u001b[0m \u001b[0mextract_text_from_table\u001b[0m\u001b[0;34m(\u001b[0m\u001b[0mdoc_path\u001b[0m\u001b[0;34m)\u001b[0m\u001b[0;34m\u001b[0m\u001b[0;34m\u001b[0m\u001b[0m\n\u001b[1;32m     36\u001b[0m             \u001b[0;31m# フォーマットされた内容を生成\u001b[0m\u001b[0;34m\u001b[0m\u001b[0;34m\u001b[0m\u001b[0m\n\u001b[0;32m---> 37\u001b[0;31m             \u001b[0mcontent\u001b[0m \u001b[0;34m=\u001b[0m \u001b[0mformat_content\u001b[0m\u001b[0;34m(\u001b[0m\u001b[0mdata\u001b[0m\u001b[0;34m[\u001b[0m\u001b[0;34m'授業形態'\u001b[0m\u001b[0;34m]\u001b[0m\u001b[0;34m,\u001b[0m \u001b[0mdata\u001b[0m\u001b[0;34m[\u001b[0m\u001b[0;34m'授業の到達目標'\u001b[0m\u001b[0;34m]\u001b[0m\u001b[0;34m,\u001b[0m \u001b[0mdata\u001b[0m\u001b[0;34m[\u001b[0m\u001b[0;34m'授業計画・内容'\u001b[0m\u001b[0;34m]\u001b[0m\u001b[0;34m)\u001b[0m\u001b[0;34m\u001b[0m\u001b[0;34m\u001b[0m\u001b[0m\n\u001b[0m\u001b[1;32m     38\u001b[0m             \u001b[0;31m# Excel に書き込み\u001b[0m\u001b[0;34m\u001b[0m\u001b[0;34m\u001b[0m\u001b[0m\n\u001b[1;32m     39\u001b[0m             \u001b[0mws\u001b[0m\u001b[0;34m.\u001b[0m\u001b[0mcell\u001b[0m\u001b[0;34m(\u001b[0m\u001b[0mrow\u001b[0m\u001b[0;34m=\u001b[0m\u001b[0mstart_row\u001b[0m\u001b[0;34m,\u001b[0m \u001b[0mcolumn\u001b[0m\u001b[0;34m=\u001b[0m\u001b[0;36m3\u001b[0m\u001b[0;34m)\u001b[0m\u001b[0;34m.\u001b[0m\u001b[0mvalue\u001b[0m \u001b[0;34m=\u001b[0m \u001b[0mdata\u001b[0m\u001b[0;34m[\u001b[0m\u001b[0;34m'科目名'\u001b[0m\u001b[0;34m]\u001b[0m\u001b[0;34m\u001b[0m\u001b[0;34m\u001b[0m\u001b[0m\n",
            "\u001b[0;31mKeyError\u001b[0m: '授業形態'"
          ]
        }
      ],
      "source": [
        "import os\n",
        "from docx import Document\n",
        "from openpyxl import load_workbook\n",
        "\n",
        "def extract_text_from_table(doc_path):\n",
        "    doc = Document(doc_path)\n",
        "    data = {}\n",
        "    for table in doc.tables:\n",
        "        for row in table.rows:\n",
        "            key = row.cells[0].text.strip()\n",
        "            value = row.cells[1].text.strip().replace('\\n', '')\n",
        "            data[key] = value\n",
        "    return data\n",
        "\n",
        "def format_content(format, goals, plan):\n",
        "    # 教科目計画の内容の各行から番号を取り除き、必要に応じて句読点を挿入\n",
        "    plan = plan.replace('\\n', '、')\n",
        "    plan = plan[:-1] + '。'  # 最後の改行を句点に変更\n",
        "    content = f\"本科目の授業形態は{format}である。授業の到達目標は次の通りである。{goals}。\\n授業計画は次の内容を含む。{plan}\"\n",
        "    return content\n",
        "\n",
        "def main():\n",
        "    folder_path = '/content/drive/MyDrive/transcribe'\n",
        "    excel_path = '/content/drive/MyDrive/transcribe/2_3-1auto.xlsx'\n",
        "    start_row = 6  # 開始行番号\n",
        "\n",
        "    # Excel ファイルを読み込む\n",
        "    wb = load_workbook(excel_path)\n",
        "    ws = wb.active\n",
        "\n",
        "    # フォルダ内の全ての Word ファイルを処理\n",
        "    for filename in os.listdir(folder_path):\n",
        "        if filename.endswith('.docx'):\n",
        "            doc_path = os.path.join(folder_path, filename)\n",
        "            data = extract_text_from_table(doc_path)\n",
        "            # フォーマットされた内容を生成\n",
        "            content = format_content(data['授業形態'], data['授業の到達目標'], data['授業計画・内容'])\n",
        "            # Excel に書き込み\n",
        "            ws.cell(row=start_row, column=3).value = data['科目名']\n",
        "            ws.cell(row=start_row, column=5).value = content\n",
        "            start_row += 1  # 次の行へ\n",
        "\n",
        "    # 変更を保存\n",
        "    wb.save(excel_path)\n",
        "\n",
        "if __name__ == \"__main__\":\n",
        "    main()"
      ]
    },
    {
      "cell_type": "code",
      "source": [
        "import os\n",
        "from docx import Document\n",
        "from openpyxl import load_workbook\n",
        "\n",
        "def extract_text_from_table(doc_path):\n",
        "    doc = Document(doc_path)\n",
        "    data = {}\n",
        "    for table in doc.tables:\n",
        "        for row in table.rows:\n",
        "            cells = row.cells\n",
        "            for i, cell in enumerate(cells):\n",
        "                text = cell.text.strip()\n",
        "                if '科目名' in text and i+1 < len(cells):\n",
        "                    data['科目名'] = cells[i+1].text.strip()\n",
        "                elif '授業形態' in text and i+1 < len(cells):\n",
        "                    data['授業形態'] = cells[i+1].text.strip()\n",
        "                elif '授業の到達目標' in text and i+1 < len(cells):\n",
        "                    data['授業の到達目標'] = cells[i+1].text.strip().replace('\\n', '')\n",
        "                elif '授業計画・内容' in text and i+1 < len(cells):\n",
        "                    plan_content = []\n",
        "                    for j in range(1, 16):  # 1から15回の内容を集約\n",
        "                        if i+j < len(cells):\n",
        "                            plan_content.append(cells[i+j].text.strip().replace('\\n', '、'))\n",
        "                    data['授業計画・内容'] = ''.join(plan_content[:-1]) + plan_content[-1].rstrip('、') + '。'\n",
        "    return data\n",
        "\n",
        "def format_content(format, goals, plan):\n",
        "    content = f\"本科目の授業形態は{format}である。授業の到達目標は次の通りである。{goals}。\\n授業計画は次の内容を含む。{plan}\"\n",
        "    return content\n",
        "\n",
        "def main():\n",
        "    folder_path = '/content/drive/MyDrive/transcribe'\n",
        "    excel_path = '/content/drive/MyDrive/transcribe/2_3-1auto.xlsx'\n",
        "    start_row = 6  # Excelで書き込みを開始する行番号\n",
        "\n",
        "    wb = load_workbook(excel_path)\n",
        "    ws = wb.active\n",
        "\n",
        "    for filename in os.listdir(folder_path):\n",
        "        if filename.endswith('.docx'):\n",
        "            doc_path = os.path.join(folder_path, filename)\n",
        "            data = extract_text_from_table(doc_path)\n",
        "            if '科目名' in data and '授業形態' in data and '授業の到達目標' in data and '授業計画・内容' in data:\n",
        "                content = format_content(data['授業形態'], data['授業の到達目標'], data['授業計画・内容'])\n",
        "                ws.cell(row=start_row, column=3, value=data['科目名'])\n",
        "                ws.cell(row=start_row, column=5, value=content)\n",
        "                start_row += 1\n",
        "\n",
        "    wb.save(excel_path)\n",
        "\n",
        "if __name__ == \"__main__\":\n",
        "    main()"
      ],
      "metadata": {
        "id": "h4WVV5DGcyJR"
      },
      "execution_count": 4,
      "outputs": []
    }
  ]
}